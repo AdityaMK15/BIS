{
  "nbformat": 4,
  "nbformat_minor": 0,
  "metadata": {
    "colab": {
      "provenance": [],
      "authorship_tag": "ABX9TyOulPBTonsAGFT8B97nJJaM",
      "include_colab_link": true
    },
    "kernelspec": {
      "name": "python3",
      "display_name": "Python 3"
    },
    "language_info": {
      "name": "python"
    }
  },
  "cells": [
    {
      "cell_type": "markdown",
      "metadata": {
        "id": "view-in-github",
        "colab_type": "text"
      },
      "source": [
        "<a href=\"https://colab.research.google.com/github/AdityaMK15/BIS/blob/main/Genetic_algorithm_lab.ipynb\" target=\"_parent\"><img src=\"https://colab.research.google.com/assets/colab-badge.svg\" alt=\"Open In Colab\"/></a>"
      ]
    },
    {
      "cell_type": "code",
      "execution_count": 1,
      "metadata": {
        "colab": {
          "base_uri": "https://localhost:8080/"
        },
        "id": "GJALjI22kwq7",
        "outputId": "ae160afb-301f-4522-bb7d-dc4465638c4e"
      },
      "outputs": [
        {
          "output_type": "stream",
          "name": "stdout",
          "text": [
            "Generation 1: Best Solution = -9.899042243462329, Best Fitness = 97.99103733785171\n",
            "Generation 2: Best Solution = -9.899042243462329, Best Fitness = 97.99103733785171\n",
            "Generation 3: Best Solution = -9.899042243462329, Best Fitness = 97.99103733785171\n",
            "Generation 4: Best Solution = -9.899042243462329, Best Fitness = 97.99103733785171\n",
            "Generation 5: Best Solution = -9.899042243462329, Best Fitness = 97.99103733785171\n",
            "Generation 6: Best Solution = -9.899042243462329, Best Fitness = 97.99103733785171\n",
            "Generation 7: Best Solution = -9.899042243462329, Best Fitness = 97.99103733785171\n",
            "Generation 8: Best Solution = -9.899042243462329, Best Fitness = 97.99103733785171\n",
            "Generation 9: Best Solution = -9.899042243462329, Best Fitness = 97.99103733785171\n",
            "Generation 10: Best Solution = -9.899042243462329, Best Fitness = 97.99103733785171\n",
            "Best Solution Found: x = -9.899042243462329, f(x) = 97.99103733785171\n"
          ]
        }
      ],
      "source": [
        "import numpy as np\n",
        "import random\n",
        "\n",
        "\n",
        "def objective_function(x):\n",
        "    return x ** 2\n",
        "\n",
        "population_size = 100\n",
        "mutation_rate = 0.1\n",
        "crossover_rate = 0.7\n",
        "num_generations = 10\n",
        "range_min = -10\n",
        "range_max = 10\n",
        "\n",
        "\n",
        "def initialize_population(size, range_min, range_max):\n",
        "    return np.random.uniform(range_min, range_max, size)\n",
        "\n",
        "\n",
        "def evaluate_fitness(population):\n",
        "    return np.array([objective_function(x) for x in population])\n",
        "\n",
        "\n",
        "def select_parents(population, fitness):\n",
        "    total_fitness = np.sum(fitness)\n",
        "    selection_probs = fitness / total_fitness\n",
        "    parents_indices = np.random.choice(range(len(population)), size=2, p=selection_probs)\n",
        "    return population[parents_indices]\n",
        "\n",
        "\n",
        "def crossover(parent1, parent2):\n",
        "    if random.random() < crossover_rate:\n",
        "        return (parent1 + parent2) / 2\n",
        "    return parent1\n",
        "\n",
        "def mutate(offspring):\n",
        "    if random.random() < mutation_rate:\n",
        "        return np.random.uniform(range_min, range_max)\n",
        "    return offspring\n",
        "\n",
        "\n",
        "def genetic_algorithm():\n",
        "    population = initialize_population(population_size, range_min, range_max)\n",
        "\n",
        "    best_solution = None\n",
        "    best_fitness = -1\n",
        "\n",
        "    for generation in range(num_generations):\n",
        "        fitness = evaluate_fitness(population)\n",
        "\n",
        "\n",
        "        max_fitness_idx = np.argmax(fitness)\n",
        "        if fitness[max_fitness_idx] > best_fitness:\n",
        "            best_fitness = fitness[max_fitness_idx]\n",
        "            best_solution = population[max_fitness_idx]\n",
        "\n",
        "\n",
        "        new_population = []\n",
        "\n",
        "        for _ in range(population_size):\n",
        "            parent1, parent2 = select_parents(population, fitness)\n",
        "            offspring = crossover(parent1, parent2)\n",
        "            offspring = mutate(offspring)\n",
        "            new_population.append(offspring)\n",
        "\n",
        "        population = np.array(new_population)\n",
        "\n",
        "        print(f\"Generation {generation + 1}: Best Solution = {best_solution}, Best Fitness = {best_fitness}\")\n",
        "\n",
        "    return best_solution, best_fitness\n",
        "\n",
        "\n",
        "best_solution, best_fitness = genetic_algorithm()\n",
        "print(f\"Best Solution Found: x = {best_solution}, f(x) = {best_fitness}\")\n",
        "\n"
      ]
    }
  ]
}